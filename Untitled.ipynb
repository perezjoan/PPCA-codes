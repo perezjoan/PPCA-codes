{
 "cells": [
  {
   "cell_type": "code",
   "execution_count": null,
   "id": "a524da12-8549-4d01-9600-18db64602daa",
   "metadata": {},
   "outputs": [],
   "source": [
    "'''\n",
    "PPCA 3.0 xxxx\n",
    "\n",
    "xxxx\n",
    "\n",
    "Requirements:\n",
    "- A specific working environment (see github page of the project)\n",
    "- Geopackage file from PPCA 2.0\n",
    "\n",
    "Guide to run the script:\n",
    "- Fill 0.2 box\n",
    "\n",
    "Author : Perez, Joan \n",
    "'''"
   ]
  },
  {
   "cell_type": "code",
   "execution_count": null,
   "id": "e938f28e-292b-4261-a7fb-5c8f678cc6a1",
   "metadata": {},
   "outputs": [],
   "source": [
    "# 0.1 : libraries\n",
    "import pandas as pd\n",
    "import geopandas as gpd\n",
    "import matplotlib.pyplot as plt\n",
    "import numpy as np\n",
    "from matplotlib.colors import ListedColormap"
   ]
  },
  {
   "cell_type": "code",
   "execution_count": null,
   "id": "ba08940e-54d3-4393-9078-84aca878f5b0",
   "metadata": {},
   "outputs": [],
   "source": [
    "# 0.2 : Box to fil with informations\n",
    "\n",
    "# Name of the case study\n",
    "Name = 'Goteborg'\n",
    "\n",
    "# Recall the ghs date (extracted in previous step)\n",
    "ghs_date = 2020\n",
    "\n",
    "# Define projected CRS\n",
    "projected_crs = 'EPSG:3152'"
   ]
  }
 ],
 "metadata": {
  "kernelspec": {
   "display_name": "Python 3 (ipykernel)",
   "language": "python",
   "name": "python3"
  },
  "language_info": {
   "codemirror_mode": {
    "name": "ipython",
    "version": 3
   },
   "file_extension": ".py",
   "mimetype": "text/x-python",
   "name": "python",
   "nbconvert_exporter": "python",
   "pygments_lexer": "ipython3",
   "version": "3.12.3"
  }
 },
 "nbformat": 4,
 "nbformat_minor": 5
}
