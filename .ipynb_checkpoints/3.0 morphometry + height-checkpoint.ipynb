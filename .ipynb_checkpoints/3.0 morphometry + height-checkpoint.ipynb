{
 "cells": [
  {
   "cell_type": "code",
   "execution_count": null,
   "id": "a524da12-8549-4d01-9600-18db64602daa",
   "metadata": {},
   "outputs": [],
   "source": [
    "'''\n",
    "PPCA 3.0 MORPHOMETRY ON OSM BUILDINGS\n",
    "\n",
    "Author : Perez, Joan \n",
    "\n",
    "This script performs several calculations and transformations on a layer of OSM buildings. It begins by ensuring the columns 'height' and 'building\n",
    "are numeric, converting any non-numeric entries to NaN. The script then fills missing 'height' values by multiplying floors by 3, assuming an \n",
    "average floor height of 3 meters. Conversely, it fills missing building values by dividing 'height' by 3 and rounding the result. It calculates and\n",
    "prints the number and percentage of rows with NaN in both 'height' and 'building. Several new columns are computed: 'FL' for the number of floors,\n",
    "'A' for the surface area, 'P' for the perimeter, 'E' for elongation, 'C' for convexity, 'FA' for floor area, 'ECA' for a product involving \n",
    "elongation, convexity, and area, 'EA' for another elongation-area product, and 'SW' for shared walls ratio. Finally, the script renames \n",
    "'building:floors' to 'FL'.\n",
    "\n",
    "Requirements:\n",
    "- A specific working environment (see README on the github page of the project https://github.com/perezjoan/PPCA-codes?tab=readme-ov-file)\n",
    "- Output file from PPCA 1.0 (Geopackage)\n",
    "\n",
    "Guide to run the script:\n",
    "- Fill 0.2 box\n",
    "\n",
    "Output :\n",
    "- A geopackage file with a single layer\n",
    "    * 'osm_all_buildings_ind' (Polygon), osm buildings with height/floor values completed and with morphometric indicators\n",
    "\n",
    "Acknowledgement: This resource was produced within the emc2 project, which is funded by ANR (France), FFG (Austria), MUR (Italy) and \n",
    "Vinnova (Sweden) under the Driving Urban Transition Partnership, which has been co-funded by the European Commission.\n",
    "\n",
    "License: Attribution-ShareAlike 4.0 International - CC-BY-SA-4.0 license\n",
    "'''"
   ]
  },
  {
   "cell_type": "code",
   "execution_count": 1,
   "id": "e938f28e-292b-4261-a7fb-5c8f678cc6a1",
   "metadata": {},
   "outputs": [],
   "source": [
    "# 0.1 : libraries\n",
    "import pandas as pd\n",
    "import geopandas as gpd\n",
    "import numpy as np\n",
    "import momepy\n",
    "import libpysal\n",
    "import warnings"
   ]
  },
  {
   "cell_type": "code",
   "execution_count": 2,
   "id": "ba08940e-54d3-4393-9078-84aca878f5b0",
   "metadata": {},
   "outputs": [],
   "source": [
    "# 0.2 : Box to fil with informations\n",
    "\n",
    "# Name of the case study\n",
    "Name = 'Nice'\n",
    "\n",
    "# Define projected CRS\n",
    "projected_crs = 'EPSG:2154'"
   ]
  },
  {
   "cell_type": "code",
   "execution_count": 4,
   "id": "9c173219-076c-4233-9ecd-9f60df6b6f48",
   "metadata": {},
   "outputs": [
    {
     "name": "stdout",
     "output_type": "stream",
     "text": [
      "Nice : Number of remaining values with NA for height/floors: 99057 (66.17%)\n"
     ]
    }
   ],
   "source": [
    "# 1. FILL & CALCULATE MISSING VALUES FOR HEIGHT & LEVEL\n",
    "# Import OSM buildings\n",
    "gpkg = f'PPCA1_{Name}.gpkg'\n",
    "building = gpd.read_file(gpkg, layer = 'osm_all_buildings')\n",
    "\n",
    "# Ensure height & level columns are numeric\n",
    "building['height'] = pd.to_numeric(building['height'], errors='coerce')\n",
    "building['building:levels'] = pd.to_numeric(building['building:levels'], errors='coerce')\n",
    "\n",
    "# checks if height is NaN and if floor is not NaN.\n",
    "# If both conditions are met : multiplies the value of floor by 3 and assigns it to height\n",
    "building['height'] = building.apply(lambda row: row['building:levels'] * 3 if pd.isna(row['height'])\n",
    "                                     and not pd.isna(row['building:levels']) else row['height'], axis=1)\n",
    "# checks if the height column is NaN and if the floor is not NaN.\n",
    "# If both conditions are met : multiplies the value of floor by 3 and assigns it to height\n",
    "building['building:levels'] = building.apply(lambda row: round(row['height'] / 3) if pd.isna(row['building:levels'])\n",
    "                                             and not pd.isna(row['height']) else row['building:levels'], axis=1)\n",
    "\n",
    "# Calculate the number and percentage of rows with NaN for both 'height' and 'building:levels'\n",
    "num_na = building[['height', 'building:levels']].isna().all(axis=1).sum()\n",
    "percent_na = (num_na / len(building)) * 100\n",
    "\n",
    "# Print the number and percentage of rows with NA for both columns\n",
    "print(f'{Name} : Number of remaining values with NA for height/floors: {num_na} ({percent_na:.2f}%)')"
   ]
  },
  {
   "cell_type": "code",
   "execution_count": 6,
   "id": "9c16d139-37c0-4e55-ab54-09d6581a2db9",
   "metadata": {},
   "outputs": [],
   "source": [
    "# 2. CALCULATE MORPHOMETRIC INDICATORS FOR EACH BUILDING\n",
    "# Go to a projected CRS\n",
    "building = building.to_crs(projected_crs)\n",
    "\n",
    "# Number of floors\n",
    "building.rename(columns={'building:levels': 'FL'}, inplace=True)\n",
    "\n",
    "# Surface\n",
    "building['A'] = building.geometry.area\n",
    "\n",
    "# Calculating perimeter\n",
    "building['P'] = building.geometry.length\n",
    "\n",
    "# Calculating elongation\n",
    "building['E'] = momepy.Elongation(building).series\n",
    "\n",
    "# Convexity\n",
    "building['C'] = momepy.Convexity(building).series\n",
    "\n",
    "# Floor area\n",
    "building['FA'] = building['FL'] * building['A']\n",
    "\n",
    "# Product [1-E].C.S\n",
    "building['ECA'] = (1 - building['E']) * building['A'] * building['C']\n",
    "\n",
    "# [1-E].S\n",
    "building['EA'] = (1 - building['E']) * building['A']\n",
    "\n",
    "# Shared walls\n",
    "warnings.filterwarnings(\"ignore\", category=FutureWarning, module=\"momepy\")\n",
    "building[\"SW\"] = momepy.SharedWallsRatio(building).series"
   ]
  },
  {
   "cell_type": "code",
   "execution_count": 7,
   "id": "d0882cee-f3d1-4f21-b683-edf3748a957a",
   "metadata": {},
   "outputs": [],
   "source": [
    "# Save & plot\n",
    "gpkg = f'PPCA3_{Name}.gpkg'\n",
    "building.to_file(gpkg, layer='osm_all_buildings_ind', driver=\"GPKG\")"
   ]
  }
 ],
 "metadata": {
  "kernelspec": {
   "display_name": "Python 3 (ipykernel)",
   "language": "python",
   "name": "python3"
  },
  "language_info": {
   "codemirror_mode": {
    "name": "ipython",
    "version": 3
   },
   "file_extension": ".py",
   "mimetype": "text/x-python",
   "name": "python",
   "nbconvert_exporter": "python",
   "pygments_lexer": "ipython3",
   "version": "3.12.3"
  }
 },
 "nbformat": 4,
 "nbformat_minor": 5
}
