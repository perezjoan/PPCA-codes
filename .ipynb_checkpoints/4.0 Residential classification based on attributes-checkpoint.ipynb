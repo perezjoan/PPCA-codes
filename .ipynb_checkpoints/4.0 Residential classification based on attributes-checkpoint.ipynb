{
 "cells": [
  {
   "cell_type": "code",
   "execution_count": null,
   "id": "dab88172-facd-460b-a43b-a227f047879b",
   "metadata": {},
   "outputs": [],
   "source": [
    "'''\n",
    "PPCA 4.0 RESIDENTIAL & NON-RESIDENTIAL BUILDINGS : CLASSIFICATION BASED ON ATTRIBUTES\n",
    "\n",
    "Author : Perez, Joan\n",
    "\n",
    "This script filter out buildings with a footprint area less than 15 m² and optionally filters out buildings that have no walls, if the 'wall' column\n",
    "exists. It then create a column 'type' within the OSM building data with three possible values (# 0 : NA ; 1 : residential or mixed-use ; \n",
    "2 : non-residential). Values are filled using the OSM attributes 'building_type' : apartments', 'barracks', 'house', 'residential', 'bungalow', \n",
    "'cabin', 'detached', 'dormitory', 'farm', 'static_caravan', 'semidetached_house' & 'stilt_house' are considered as residential or mixed-use \n",
    "buildings. Finally, the classification is refined by attributing 0 values to null values based on the spatial relationships with non-populated \n",
    "OSM land use areas. Final score of classified buildings vs buldings with null values are printed and mapped.\n",
    "\n",
    "Requirements:\n",
    "- A specific working environment (see README on the github page of the project https://github.com/perezjoan/PPCA-codes?tab=readme-ov-file)\n",
    "- Output file from PPCA 3.0 ('osm_all_buildings_ind' (Polygon), OSM all buildings)\n",
    "- Output file from PPCA 2.0 ('osm_non_populated_areas' (Polygon), OSM land use data with non-populated areas)\n",
    "\n",
    "Guide to run the script:\n",
    "- Fill 0.2 box\n",
    "\n",
    "Output :\n",
    "- A geopackage file with a single layer\n",
    "    * 'osm_all_buildings_res_type_with_null' (Polygon), osm buildings with residential classification and null\n",
    "\n",
    "Acknowledgement: This resource was produced within the emc2 project, which is funded by ANR (France), FFG (Austria), MUR (Italy) and \n",
    "Vinnova (Sweden) under the Driving Urban Transition Partnership, which has been co-funded by the European Commission.\n",
    "\n",
    "License: Attribution-ShareAlike 4.0 International - CC-BY-SA-4.0 license\n",
    "'''"
   ]
  },
  {
   "cell_type": "code",
   "execution_count": 1,
   "id": "39d7192b-0480-43b0-ab0a-0850e33b46e5",
   "metadata": {},
   "outputs": [],
   "source": [
    "# 0.1 : libraries\n",
    "import pandas as pd\n",
    "import geopandas as gpd\n",
    "import matplotlib.pyplot as plt\n",
    "import numpy as np\n",
    "from matplotlib.colors import ListedColormap"
   ]
  },
  {
   "cell_type": "code",
   "execution_count": 2,
   "id": "bf735c20-3fd0-4ae7-84a0-3fad75aecb41",
   "metadata": {},
   "outputs": [],
   "source": [
    "# 0.2 : Box to fil with informations\n",
    "\n",
    "# Name of the case study\n",
    "Name = 'Nice'\n",
    "\n",
    "# Define projected CRS\n",
    "projected_crs = 'EPSG:2154'"
   ]
  },
  {
   "cell_type": "code",
   "execution_count": null,
   "id": "55e75c72-676c-4b54-b9ca-a09ba1069f97",
   "metadata": {},
   "outputs": [],
   "source": [
    "# 0.3 Data preparation\n",
    "gpkg = f'PPCA3_{Name}.gpkg'\n",
    "gpkg2 = f'PPCA2_{Name}.gpkg'\n",
    "all_building = gpd.read_file(gpkg, layer = 'osm_all_buildings_ind')\n",
    "non_populated_areas = gpd.read_file(gpkg2, layer = 'osm_non_populated_areas')"
   ]
  },
  {
   "cell_type": "code",
   "execution_count": 3,
   "id": "eb54f4e3-5dcf-42d9-ac00-ffe1871659e6",
   "metadata": {},
   "outputs": [],
   "source": [
    "# 1. FILTER SMALL BUILDINGS, BUILDINGS WITH NO WALLS & UNDERGROUND BUILDINGS\n",
    "\n",
    "# Filter out buildings with a surface footprint less than 15 m²\n",
    "all_building = all_building.to_crs(projected_crs)\n",
    "building_filtered = all_building[all_building['A'] >= 15]\n",
    "\n",
    "# Filter out buildings with no walls (if the wall column exists)\n",
    "if 'wall' in building_filtered.columns:\n",
    "    building_filtered = building_filtered[building_filtered['wall'] != 'no']\n",
    "\n",
    "# Remove buildings that have a 0 value in the buildings:levels column (0 = underground buildings \n",
    "# https://wiki.openstreetmap.org/wiki/Key:building:levels)\n",
    "if 'buildings:levels' in building_filtered.columns:\n",
    "    building_filtered = building_filtered[building_filtered['buildings:levels'] != 0]"
   ]
  },
  {
   "cell_type": "code",
   "execution_count": 4,
   "id": "63838b84-bf10-471d-8869-79ed4951dd34",
   "metadata": {},
   "outputs": [],
   "source": [
    "# 2. CLASSIFICATION USING OSM ATTRIBUTES\n",
    "# Define a function to determine the type based on the 'building' column (0 : NA ; 1 : residential or mixed-use ; 2 : non-residential)\n",
    "# Attribute values : https://wiki.openstreetmap.org/wiki/Key:building\n",
    "def assign_type(building_type):\n",
    "    if building_type == 'yes':\n",
    "        return 0\n",
    "    elif building_type in ['apartments', 'barracks', 'house', 'residential', 'bungalow', 'cabin', 'detached', 'dormitory', 'farm', 'static_caravan',\n",
    "                          'semidetached_house', 'stilt_house']:\n",
    "        return 1\n",
    "    else:\n",
    "        return 2\n",
    "\n",
    "# Add a new column 'type' and apply the conditions\n",
    "building_filtered = building_filtered.copy()\n",
    "building_filtered.loc[:, 'type'] = building_filtered['building'].apply(assign_type)"
   ]
  },
  {
   "cell_type": "code",
   "execution_count": 5,
   "id": "74102897-e880-4b84-a098-7cc42ced55d6",
   "metadata": {},
   "outputs": [],
   "source": [
    "# 3. REFINED CLASSIFICATION\n",
    "# Spatial join with non-residential landuse areas\n",
    "non_populated_areas = non_populated_areas.to_crs(projected_crs)\n",
    "joined_data = gpd.sjoin(building_filtered, non_populated_areas, how=\"left\", predicate=\"intersects\")\n",
    "\n",
    "# Buildings with NA in non-residential landuse areas are given the value 2 (non residential)\n",
    "joined_data.loc[(joined_data['type'] == 0) & joined_data['landuse'].notnull(), 'type'] = 2\n",
    "\n",
    "# Update 'type' to 2 if 'type' is 0 (NA) and at least one non-null value exists in the following columns : 'tourism', 'parking', 'shop' or 'office'\n",
    "condition = (joined_data['type'] == 0) & \\\n",
    "            (joined_data['tourism'].notnull() | \\\n",
    "             joined_data['parking'].notnull() | \\\n",
    "             joined_data['shop'].notnull() | \\\n",
    "             joined_data['office'].notnull())\n",
    "joined_data.loc[condition, 'type'] = 2"
   ]
  },
  {
   "cell_type": "code",
   "execution_count": null,
   "id": "946b14a2-7469-4490-b9f2-579c9571a8e2",
   "metadata": {},
   "outputs": [],
   "source": [
    "# A1. Save Outputs\n",
    "gpkg = f'PPCA4_{Name}.gpkg'\n",
    "joined_data.to_file(gpkg, layer='osm_all_buildings_res_type_with_null', driver=\"GPKG\")"
   ]
  },
  {
   "cell_type": "code",
   "execution_count": null,
   "id": "a650606c-9147-4501-85dc-7f2a0150f070",
   "metadata": {},
   "outputs": [],
   "source": [
    "# A2. Map & Statistics\n",
    "# Print the percentage and count of each building type\n",
    "feature_counts = joined_data['type'].value_counts()\n",
    "type_counts = joined_data['type'].value_counts(normalize=True) * 100\n",
    "print(\"Percentage and count of building types using attribute values, specialized columns & landuse\")\n",
    "for type_code, percentage in type_counts.items():\n",
    "    feature_count = feature_counts[type_code]\n",
    "    if type_code == 0:\n",
    "        print(f\"0 : NA: {percentage:.2f}% ({feature_count} buildings)\")\n",
    "    elif type_code == 1:\n",
    "        print(f\"1 : Residential or mixed-use: {percentage:.2f}% ({feature_count} buildings)\")\n",
    "    else:\n",
    "        print(f\"2 : Non-residential: {percentage:.2f}% ({feature_count} buildings)\")\n",
    "\n",
    "columns_to_drop = ['index_right', 'element_type_right', 'osmid_right', 'landuse']\n",
    "joined_data = joined_data.drop(columns=columns_to_drop)\n",
    "\n",
    "# Plot with custom colors\n",
    "colors = ['red', 'blue', 'green']\n",
    "fig, ax = plt.subplots(figsize=(10, 10))\n",
    "joined_data.plot(column='type', categorical=True, legend=True, ax=ax, cmap=ListedColormap(colors))\n",
    "plt.title('Distribution of Building Types')\n",
    "plt.show()"
   ]
  }
 ],
 "metadata": {
  "kernelspec": {
   "display_name": "Python 3 (ipykernel)",
   "language": "python",
   "name": "python3"
  },
  "language_info": {
   "codemirror_mode": {
    "name": "ipython",
    "version": 3
   },
   "file_extension": ".py",
   "mimetype": "text/x-python",
   "name": "python",
   "nbconvert_exporter": "python",
   "pygments_lexer": "ipython3",
   "version": "3.12.3"
  }
 },
 "nbformat": 4,
 "nbformat_minor": 5
}
