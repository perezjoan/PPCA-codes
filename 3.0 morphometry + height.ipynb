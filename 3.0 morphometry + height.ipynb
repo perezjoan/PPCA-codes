{
 "cells": [
  {
   "cell_type": "code",
   "execution_count": null,
   "id": "a524da12-8549-4d01-9600-18db64602daa",
   "metadata": {},
   "outputs": [],
   "source": [
    "'''\n",
    "PPCA 3.0 xxxx\n",
    "\n",
    "xxxx\n",
    "\n",
    "Requirements:\n",
    "- A specific working environment (see github page of the project)\n",
    "- Geopackage file from PPCA 2.0\n",
    "\n",
    "Guide to run the script:\n",
    "- Fill 0.2 box\n",
    "\n",
    "Author : Perez, Joan \n",
    "'''"
   ]
  },
  {
   "cell_type": "code",
   "execution_count": 1,
   "id": "e938f28e-292b-4261-a7fb-5c8f678cc6a1",
   "metadata": {},
   "outputs": [],
   "source": [
    "# 0.1 : libraries\n",
    "import pandas as pd\n",
    "import geopandas as gpd\n",
    "import numpy as np\n",
    "import momepy\n",
    "import libpysal\n",
    "import warnings"
   ]
  },
  {
   "cell_type": "code",
   "execution_count": 2,
   "id": "ba08940e-54d3-4393-9078-84aca878f5b0",
   "metadata": {},
   "outputs": [],
   "source": [
    "# 0.2 : Box to fil with informations\n",
    "\n",
    "# Name of the case study\n",
    "Name = 'Nice'\n",
    "\n",
    "# Recall the ghs date (extracted in step 1.0)\n",
    "ghs_date = 2020\n",
    "\n",
    "# Define projected CRS\n",
    "projected_crs = 'EPSG:2154'"
   ]
  },
  {
   "cell_type": "code",
   "execution_count": 3,
   "id": "ed3fac02-cc5a-4fcb-ba79-4f738738eeae",
   "metadata": {},
   "outputs": [],
   "source": [
    "gpkg = f'PPCA1_{Name}.gpkg'\n",
    "gpkg2 = f'PPCA2_{Name}.gpkg'\n",
    "building = gpd.read_file(gpkg, layer = 'osm_all_buildings')\n",
    "ghs_vector = gpd.read_file(gpkg2, layer = f'ghs_populated_{ghs_date}_vector')"
   ]
  },
  {
   "cell_type": "code",
   "execution_count": 4,
   "id": "9c173219-076c-4233-9ecd-9f60df6b6f48",
   "metadata": {},
   "outputs": [
    {
     "name": "stdout",
     "output_type": "stream",
     "text": [
      "Nice : Number of remaining values with NA for height/floors: 9473 (29.17%)\n"
     ]
    }
   ],
   "source": [
    "# Ensure height & level columns are numeric\n",
    "building['height'] = pd.to_numeric(building['height'], errors='coerce')\n",
    "building['building:levels'] = pd.to_numeric(building['building:levels'], errors='coerce')\n",
    "\n",
    "# checks if height is NaN and if floor is not NaN.\n",
    "# If both conditions are met : multiplies the value of floor by 3 and assigns it to height\n",
    "building['height'] = building.apply(lambda row: row['building:levels'] * 3 if pd.isna(row['height'])\n",
    "                                     and not pd.isna(row['building:levels']) else row['height'], axis=1)\n",
    "# checks if the height column is NaN and if the floor is not NaN.\n",
    "# If both conditions are met : multiplies the value of floor by 3 and assigns it to height\n",
    "building['building:levels'] = building.apply(lambda row: round(row['height'] / 3) if pd.isna(row['building:levels'])\n",
    "                                             and not pd.isna(row['height']) else row['building:levels'], axis=1)\n",
    "\n",
    "# Calculate the number and percentage of rows with NaN for both 'height' and 'building:levels'\n",
    "num_na = building[['height', 'building:levels']].isna().all(axis=1).sum()\n",
    "percent_na = (num_na / len(building)) * 100\n",
    "\n",
    "# Print the number and percentage of rows with NA for both columns\n",
    "print(f'{Name} : Number of remaining values with NA for height/floors: {num_na} ({percent_na:.2f}%)')"
   ]
  },
  {
   "cell_type": "code",
   "execution_count": 5,
   "id": "9c16d139-37c0-4e55-ab54-09d6581a2db9",
   "metadata": {},
   "outputs": [
    {
     "name": "stderr",
     "output_type": "stream",
     "text": [
      "C:\\Users\\jperez\\anaconda3\\envs\\PPCA3\\Lib\\site-packages\\momepy\\distribution.py:137: FutureWarning: The `query_bulk()` method is deprecated and will be removed in GeoPandas 1.0. You can use the `query()` method instead.\n",
      "  inp, res = gdf.sindex.query_bulk(gdf.geometry, predicate=\"intersects\")\n"
     ]
    }
   ],
   "source": [
    "building = building.to_crs(projected_crs)\n",
    "\n",
    "# Number of floors\n",
    "building.rename(columns={'building:levels': 'FL'}, inplace=True)\n",
    "\n",
    "# Surface\n",
    "building['A'] = building.geometry.area\n",
    "\n",
    "# Calculating perimeter\n",
    "building['P'] = building.geometry.length\n",
    "\n",
    "# Calculating elongation\n",
    "building['E'] = momepy.Elongation(building).series\n",
    "\n",
    "# Convexity\n",
    "building['C'] = momepy.Convexity(building).series\n",
    "\n",
    "# Floor area\n",
    "building['FA'] = building['FL'] * building['A']\n",
    "\n",
    "# Product [1-E].C.S\n",
    "building['ECA'] = (1 - building['E']) * building['A'] * building['C']\n",
    "\n",
    "# [1-E].S\n",
    "building['EA'] = (1 - building['E']) * building['A']\n",
    "\n",
    "# Shared walls\n",
    "building[\"SW\"] = momepy.SharedWallsRatio(building).series"
   ]
  },
  {
   "cell_type": "code",
   "execution_count": null,
   "id": "b41a61b6-2024-4fc7-b783-938cde393710",
   "metadata": {},
   "outputs": [],
   "source": []
  }
 ],
 "metadata": {
  "kernelspec": {
   "display_name": "Python 3 (ipykernel)",
   "language": "python",
   "name": "python3"
  },
  "language_info": {
   "codemirror_mode": {
    "name": "ipython",
    "version": 3
   },
   "file_extension": ".py",
   "mimetype": "text/x-python",
   "name": "python",
   "nbconvert_exporter": "python",
   "pygments_lexer": "ipython3",
   "version": "3.12.3"
  }
 },
 "nbformat": 4,
 "nbformat_minor": 5
}
