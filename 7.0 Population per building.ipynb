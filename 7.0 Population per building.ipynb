{
 "cells": [
  {
   "cell_type": "code",
   "execution_count": null,
   "id": "a3d598b8-d286-4355-92ce-cbff98e1ffef",
   "metadata": {},
   "outputs": [],
   "source": [
    "''' \n",
    "PPCA 7.0 POPULATION POTENTIAL ESTIMATION PER BUILDING\n",
    "\n",
    "Author : Perez, Joan\n",
    "\n",
    "XXX\n",
    "\n",
    "Requirements:\n",
    "- A specific working environment (see README on the github page of the project https://github.com/perezjoan/PPCA-codes?tab=readme-ov-file)\n",
    "- Output file from PPCA 2.0 ('ghs_populated_2020_vector'(Polygon),  GHS population data with non null values)\n",
    "- Output file from PPCA 6.0 ('osm_all_buildings_FL_type_filled' (Polygon), osm buildings with residential classification null filled by Decision \n",
    "Tree Classifier)\n",
    "\n",
    "\n",
    "Guide to run the script:\n",
    "- Fill 0.2 box\n",
    "\n",
    "Outputs : XXX\n",
    "\n",
    "Acknowledgement: This resource was produced within the emc2 project, which is funded by ANR (France), FFG (Austria), MUR (Italy) and \n",
    "Vinnova (Sweden) under the Driving Urban Transition Partnership, which has been co-funded by the European Commission.\n",
    "\n",
    "License: Attribution-ShareAlike 4.0 International - CC-BY-SA-4.0 license\n",
    "'''"
   ]
  }
 ],
 "metadata": {
  "kernelspec": {
   "display_name": "Python 3 (ipykernel)",
   "language": "python",
   "name": "python3"
  },
  "language_info": {
   "codemirror_mode": {
    "name": "ipython",
    "version": 3
   },
   "file_extension": ".py",
   "mimetype": "text/x-python",
   "name": "python",
   "nbconvert_exporter": "python",
   "pygments_lexer": "ipython3",
   "version": "3.12.3"
  }
 },
 "nbformat": 4,
 "nbformat_minor": 5
}
