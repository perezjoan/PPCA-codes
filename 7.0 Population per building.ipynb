{
 "cells": [
  {
   "cell_type": "code",
   "execution_count": null,
   "id": "a3d598b8-d286-4355-92ce-cbff98e1ffef",
   "metadata": {},
   "outputs": [],
   "source": [
    "''' \n",
    "PPCA 7.0 POPULATION POTENTIAL ESTIMATION PER BUILDING\n",
    "\n",
    "Author : Perez, Joan\n",
    "\n",
    "XXX\n",
    "\n",
    "Requirements:\n",
    "- A specific working environment (see README on the github page of the project https://github.com/perezjoan/PPCA-codes?tab=readme-ov-file)\n",
    "- Output file from PPCA 2.0 ('ghs_populated_2020_vector'(Polygon),  GHS population data with non null values)\n",
    "- Output file from PPCA 6.0 ('osm_all_buildings_FL_type_filled' (Polygon), osm buildings with residential classification null filled by Decision \n",
    "Tree Classifier)\n",
    "\n",
    "\n",
    "Guide to run the script:\n",
    "- Fill 0.2 box\n",
    "\n",
    "Outputs : XXX\n",
    "\n",
    "Acknowledgement: This resource was produced within the emc2 project, which is funded by ANR (France), FFG (Austria), MUR (Italy) and \n",
    "Vinnova (Sweden) under the Driving Urban Transition Partnership, which has been co-funded by the European Commission.\n",
    "\n",
    "License: Attribution-ShareAlike 4.0 International - CC-BY-SA-4.0 license\n",
    "'''"
   ]
  },
  {
   "cell_type": "code",
   "execution_count": 2,
   "id": "8393e863-adbd-4e0e-a259-b9e68999e41a",
   "metadata": {},
   "outputs": [],
   "source": [
    "# 0.1 : libraries\n",
    "import pandas as pd\n",
    "import numpy as np\n",
    "import geopandas as gpd"
   ]
  },
  {
   "cell_type": "code",
   "execution_count": 3,
   "id": "fa1344b5-6b00-4415-be58-3a00195056af",
   "metadata": {},
   "outputs": [],
   "source": [
    "# 0.2 : Box to fil with informations\n",
    "\n",
    "# Name of the case study\n",
    "Name = 'Nice'"
   ]
  },
  {
   "cell_type": "code",
   "execution_count": 4,
   "id": "2e3f352a-e3d9-4965-a9c5-7e719a78b230",
   "metadata": {},
   "outputs": [],
   "source": [
    "# 0.3 Data preparation\n",
    "gpkg = f'PPCA2_{Name}.gpkg'\n",
    "population = gpd.read_file(gpkg, layer='ghs_populated_2020_vector')\n",
    "\n",
    "gpkg = f'PPCA6_{Name}.gpkg'\n",
    "building = gpd.read_file(gpkg, layer='osm_all_buildings_FL_type_filled')"
   ]
  },
  {
   "cell_type": "code",
   "execution_count": 6,
   "id": "7e047a6d-0155-4430-b142-fffd3026b735",
   "metadata": {},
   "outputs": [],
   "source": [
    "# 1. JOIN POPULATION & ID TO BUILDINGS\n",
    "\n",
    "# Ensure both GeoDataFrames use the same coordinate reference system\n",
    "population = population.to_crs(building.crs)\n",
    "\n",
    "# Perform the spatial join\n",
    "joined_data = gpd.sjoin(building, population, how='left', predicate='intersects')"
   ]
  },
  {
   "cell_type": "code",
   "execution_count": 9,
   "id": "f5b1f1dd-e35d-4a0c-844b-74ee4cc06aaa",
   "metadata": {},
   "outputs": [
    {
     "data": {
      "text/html": [
       "<div>\n",
       "<style scoped>\n",
       "    .dataframe tbody tr th:only-of-type {\n",
       "        vertical-align: middle;\n",
       "    }\n",
       "\n",
       "    .dataframe tbody tr th {\n",
       "        vertical-align: top;\n",
       "    }\n",
       "\n",
       "    .dataframe thead th {\n",
       "        text-align: right;\n",
       "    }\n",
       "</style>\n",
       "<table border=\"1\" class=\"dataframe\">\n",
       "  <thead>\n",
       "    <tr style=\"text-align: right;\">\n",
       "      <th></th>\n",
       "      <th>VALUE</th>\n",
       "      <th>geometry</th>\n",
       "    </tr>\n",
       "  </thead>\n",
       "  <tbody>\n",
       "    <tr>\n",
       "      <th>0</th>\n",
       "      <td>7.0</td>\n",
       "      <td>POLYGON ((1034476.498 6314455.747, 1034574.702...</td>\n",
       "    </tr>\n",
       "    <tr>\n",
       "      <th>1</th>\n",
       "      <td>17.0</td>\n",
       "      <td>POLYGON ((1034574.702 6314460.928, 1034672.906...</td>\n",
       "    </tr>\n",
       "    <tr>\n",
       "      <th>2</th>\n",
       "      <td>15.0</td>\n",
       "      <td>POLYGON ((1034672.906 6314466.110, 1034771.110...</td>\n",
       "    </tr>\n",
       "    <tr>\n",
       "      <th>3</th>\n",
       "      <td>6.0</td>\n",
       "      <td>POLYGON ((1034771.110 6314471.294, 1034869.314...</td>\n",
       "    </tr>\n",
       "    <tr>\n",
       "      <th>4</th>\n",
       "      <td>1.0</td>\n",
       "      <td>POLYGON ((1034869.314 6314476.480, 1034967.518...</td>\n",
       "    </tr>\n",
       "  </tbody>\n",
       "</table>\n",
       "</div>"
      ],
      "text/plain": [
       "   VALUE                                           geometry\n",
       "0    7.0  POLYGON ((1034476.498 6314455.747, 1034574.702...\n",
       "1   17.0  POLYGON ((1034574.702 6314460.928, 1034672.906...\n",
       "2   15.0  POLYGON ((1034672.906 6314466.110, 1034771.110...\n",
       "3    6.0  POLYGON ((1034771.110 6314471.294, 1034869.314...\n",
       "4    1.0  POLYGON ((1034869.314 6314476.480, 1034967.518..."
      ]
     },
     "execution_count": 9,
     "metadata": {},
     "output_type": "execute_result"
    }
   ],
   "source": [
    "population.head()"
   ]
  },
  {
   "cell_type": "code",
   "execution_count": 10,
   "id": "d3780177-ac0b-48b3-8a42-a5ecf3afbc95",
   "metadata": {},
   "outputs": [
    {
     "data": {
      "text/plain": [
       "<bound method NDFrame.head of       element_type_left  osmid_left  amenity building tourism  shop  \\\n",
       "0                   way     4975884  parking  parking    None  None   \n",
       "0                   way     4975884  parking  parking    None  None   \n",
       "0                   way     4975884  parking  parking    None  None   \n",
       "0                   way     4975884  parking  parking    None  None   \n",
       "0                   way     4975884  parking  parking    None  None   \n",
       "...                 ...         ...      ...      ...     ...   ...   \n",
       "85212          relation    16794401     None      yes    None  None   \n",
       "85212          relation    16794401     None      yes    None  None   \n",
       "85212          relation    16794401     None      yes    None  None   \n",
       "85212          relation    16794401     None      yes    None  None   \n",
       "85212          relation    16794401     None      yes    None  None   \n",
       "\n",
       "            parking office  height   FL  ...            EA        SW  type  \\\n",
       "0      multi-storey   None    15.0  5.0  ...  11027.504159  0.087780     2   \n",
       "0      multi-storey   None    15.0  5.0  ...  11027.504159  0.087780     2   \n",
       "0      multi-storey   None    15.0  5.0  ...  11027.504159  0.087780     2   \n",
       "0      multi-storey   None    15.0  5.0  ...  11027.504159  0.087780     2   \n",
       "0      multi-storey   None    15.0  5.0  ...  11027.504159  0.087780     2   \n",
       "...             ...    ...     ...  ...  ...           ...       ...   ...   \n",
       "85212          None   None     NaN  NaN  ...  24146.485172  0.196236     0   \n",
       "85212          None   None     NaN  NaN  ...  24146.485172  0.196236     0   \n",
       "85212          None   None     NaN  NaN  ...  24146.485172  0.196236     0   \n",
       "85212          None   None     NaN  NaN  ...  24146.485172  0.196236     0   \n",
       "85212          None   None     NaN  NaN  ...  24146.485172  0.196236     0   \n",
       "\n",
       "       FL_pred  FL_filled  type_pred  type_filled  \\\n",
       "0          2.0        5.0          2            2   \n",
       "0          2.0        5.0          2            2   \n",
       "0          2.0        5.0          2            2   \n",
       "0          2.0        5.0          2            2   \n",
       "0          2.0        5.0          2            2   \n",
       "...        ...        ...        ...          ...   \n",
       "85212      1.0        NaN          2            2   \n",
       "85212      1.0        NaN          2            2   \n",
       "85212      1.0        NaN          2            2   \n",
       "85212      1.0        NaN          2            2   \n",
       "85212      1.0        NaN          2            2   \n",
       "\n",
       "                                                geometry  index_right  VALUE  \n",
       "0      POLYGON ((1038420.083 6293572.323, 1038551.346...      19571.0   27.0  \n",
       "0      POLYGON ((1038420.083 6293572.323, 1038551.346...      19572.0   27.0  \n",
       "0      POLYGON ((1038420.083 6293572.323, 1038551.346...      19506.0   16.0  \n",
       "0      POLYGON ((1038420.083 6293572.323, 1038551.346...      19507.0   12.0  \n",
       "0      POLYGON ((1038420.083 6293572.323, 1038551.346...      19508.0   18.0  \n",
       "...                                                  ...          ...    ...  \n",
       "85212  POLYGON ((1039667.671 6294124.229, 1039687.262...      19087.0   20.0  \n",
       "85212  POLYGON ((1039667.671 6294124.229, 1039687.262...      19088.0   21.0  \n",
       "85212  POLYGON ((1039667.671 6294124.229, 1039687.262...      19089.0   64.0  \n",
       "85212  POLYGON ((1039667.671 6294124.229, 1039687.262...      19090.0   49.0  \n",
       "85212  POLYGON ((1039667.671 6294124.229, 1039687.262...      19091.0   47.0  \n",
       "\n",
       "[112733 rows x 27 columns]>"
      ]
     },
     "execution_count": 10,
     "metadata": {},
     "output_type": "execute_result"
    }
   ],
   "source": [
    "joined_data.head"
   ]
  },
  {
   "cell_type": "code",
   "execution_count": 11,
   "id": "9f24ab63-ce23-4034-a893-c2922ce62ca7",
   "metadata": {},
   "outputs": [],
   "source": [
    "# A1. Save Outputs\n",
    "gpkg = f'PPCAtest_{Name}.gpkg'\n",
    "joined_data.to_file(gpkg, layer='osm_all_buildings_FL_type_filled', driver=\"GPKG\")"
   ]
  },
  {
   "cell_type": "code",
   "execution_count": null,
   "id": "e9f8af4a-cdb5-4323-a6f8-758f7a50a0e3",
   "metadata": {},
   "outputs": [],
   "source": []
  }
 ],
 "metadata": {
  "kernelspec": {
   "display_name": "Python 3 (ipykernel)",
   "language": "python",
   "name": "python3"
  },
  "language_info": {
   "codemirror_mode": {
    "name": "ipython",
    "version": 3
   },
   "file_extension": ".py",
   "mimetype": "text/x-python",
   "name": "python",
   "nbconvert_exporter": "python",
   "pygments_lexer": "ipython3",
   "version": "3.12.3"
  }
 },
 "nbformat": 4,
 "nbformat_minor": 5
}
